{
 "cells": [
  {
   "cell_type": "code",
   "execution_count": 15,
   "id": "c162efb6",
   "metadata": {},
   "outputs": [],
   "source": [
    "#İlgili kütüphaneler impor edildi.\n",
    "import pandas as pd\n",
    "import numpy as np\n",
    "from sklearn.model_selection import train_test_split\n",
    "from sklearn.metrics import mean_squared_error, r2_score\n",
    "from sklearn.preprocessing import LabelEncoder\n",
    "from sklearn.metrics import mean_absolute_error\n",
    "from sklearn.svm import SVR\n",
    "from sklearn.model_selection import GridSearchCV, train_test_split\n",
    "from sklearn.linear_model import LinearRegression\n",
    "from sklearn.ensemble import RandomForestRegressor\n",
    "from sklearn.neighbors import KNeighborsRegressor\n",
    "from sklearn.multioutput import MultiOutputRegressor"
   ]
  },
  {
   "cell_type": "code",
   "execution_count": 16,
   "id": "b4faf7d5",
   "metadata": {},
   "outputs": [],
   "source": [
    "df = pd.read_csv('odyometri_test_sonuclari.csv')"
   ]
  },
  {
   "cell_type": "code",
   "execution_count": 17,
   "id": "dc83d1cf",
   "metadata": {},
   "outputs": [],
   "source": [
    "label_encoder = LabelEncoder()\n",
    "df['CİNSİYET'] = label_encoder.fit_transform(df['CİNSİYET'])"
   ]
  },
  {
   "cell_type": "code",
   "execution_count": 18,
   "id": "c32d5ee0",
   "metadata": {},
   "outputs": [
    {
     "data": {
      "text/html": [
       "<div>\n",
       "<style scoped>\n",
       "    .dataframe tbody tr th:only-of-type {\n",
       "        vertical-align: middle;\n",
       "    }\n",
       "\n",
       "    .dataframe tbody tr th {\n",
       "        vertical-align: top;\n",
       "    }\n",
       "\n",
       "    .dataframe thead th {\n",
       "        text-align: right;\n",
       "    }\n",
       "</style>\n",
       "<table border=\"1\" class=\"dataframe\">\n",
       "  <thead>\n",
       "    <tr style=\"text-align: right;\">\n",
       "      <th></th>\n",
       "      <th>AD/SOYAD</th>\n",
       "      <th>YAŞ</th>\n",
       "      <th>CİNSİYET</th>\n",
       "      <th>R500Hz</th>\n",
       "      <th>R1000Hz</th>\n",
       "      <th>R2000Hz</th>\n",
       "      <th>R4000Hz</th>\n",
       "      <th>L500Hz</th>\n",
       "      <th>L1000Hz</th>\n",
       "      <th>L2000Hz</th>\n",
       "      <th>L4000Hz</th>\n",
       "      <th>R_Safses_ortalama</th>\n",
       "      <th>L_Safses_ortalama</th>\n",
       "    </tr>\n",
       "  </thead>\n",
       "  <tbody>\n",
       "    <tr>\n",
       "      <th>0</th>\n",
       "      <td>G.O</td>\n",
       "      <td>34.0</td>\n",
       "      <td>0</td>\n",
       "      <td>20</td>\n",
       "      <td>20</td>\n",
       "      <td>10</td>\n",
       "      <td>25</td>\n",
       "      <td>20</td>\n",
       "      <td>20</td>\n",
       "      <td>10</td>\n",
       "      <td>40</td>\n",
       "      <td>18.75</td>\n",
       "      <td>22.50</td>\n",
       "    </tr>\n",
       "    <tr>\n",
       "      <th>1</th>\n",
       "      <td>C.D</td>\n",
       "      <td>26.0</td>\n",
       "      <td>1</td>\n",
       "      <td>15</td>\n",
       "      <td>15</td>\n",
       "      <td>5</td>\n",
       "      <td>50</td>\n",
       "      <td>20</td>\n",
       "      <td>10</td>\n",
       "      <td>5</td>\n",
       "      <td>45</td>\n",
       "      <td>21.25</td>\n",
       "      <td>20.00</td>\n",
       "    </tr>\n",
       "    <tr>\n",
       "      <th>2</th>\n",
       "      <td>N.A</td>\n",
       "      <td>27.0</td>\n",
       "      <td>1</td>\n",
       "      <td>10</td>\n",
       "      <td>15</td>\n",
       "      <td>20</td>\n",
       "      <td>55</td>\n",
       "      <td>15</td>\n",
       "      <td>15</td>\n",
       "      <td>25</td>\n",
       "      <td>55</td>\n",
       "      <td>25.00</td>\n",
       "      <td>27.50</td>\n",
       "    </tr>\n",
       "    <tr>\n",
       "      <th>3</th>\n",
       "      <td>H.G</td>\n",
       "      <td>29.0</td>\n",
       "      <td>1</td>\n",
       "      <td>10</td>\n",
       "      <td>10</td>\n",
       "      <td>20</td>\n",
       "      <td>60</td>\n",
       "      <td>15</td>\n",
       "      <td>15</td>\n",
       "      <td>20</td>\n",
       "      <td>45</td>\n",
       "      <td>25.00</td>\n",
       "      <td>23.75</td>\n",
       "    </tr>\n",
       "    <tr>\n",
       "      <th>4</th>\n",
       "      <td>A.P</td>\n",
       "      <td>34.0</td>\n",
       "      <td>0</td>\n",
       "      <td>10</td>\n",
       "      <td>10</td>\n",
       "      <td>25</td>\n",
       "      <td>35</td>\n",
       "      <td>15</td>\n",
       "      <td>10</td>\n",
       "      <td>20</td>\n",
       "      <td>45</td>\n",
       "      <td>20.00</td>\n",
       "      <td>22.50</td>\n",
       "    </tr>\n",
       "    <tr>\n",
       "      <th>...</th>\n",
       "      <td>...</td>\n",
       "      <td>...</td>\n",
       "      <td>...</td>\n",
       "      <td>...</td>\n",
       "      <td>...</td>\n",
       "      <td>...</td>\n",
       "      <td>...</td>\n",
       "      <td>...</td>\n",
       "      <td>...</td>\n",
       "      <td>...</td>\n",
       "      <td>...</td>\n",
       "      <td>...</td>\n",
       "      <td>...</td>\n",
       "    </tr>\n",
       "    <tr>\n",
       "      <th>494</th>\n",
       "      <td>A.Ü</td>\n",
       "      <td>73.0</td>\n",
       "      <td>1</td>\n",
       "      <td>80</td>\n",
       "      <td>85</td>\n",
       "      <td>90</td>\n",
       "      <td>90</td>\n",
       "      <td>75</td>\n",
       "      <td>75</td>\n",
       "      <td>70</td>\n",
       "      <td>85</td>\n",
       "      <td>86.25</td>\n",
       "      <td>76.25</td>\n",
       "    </tr>\n",
       "    <tr>\n",
       "      <th>495</th>\n",
       "      <td>B.V</td>\n",
       "      <td>41.0</td>\n",
       "      <td>0</td>\n",
       "      <td>30</td>\n",
       "      <td>30</td>\n",
       "      <td>35</td>\n",
       "      <td>50</td>\n",
       "      <td>50</td>\n",
       "      <td>40</td>\n",
       "      <td>40</td>\n",
       "      <td>65</td>\n",
       "      <td>36.25</td>\n",
       "      <td>48.75</td>\n",
       "    </tr>\n",
       "    <tr>\n",
       "      <th>496</th>\n",
       "      <td>D.S</td>\n",
       "      <td>51.0</td>\n",
       "      <td>0</td>\n",
       "      <td>20</td>\n",
       "      <td>25</td>\n",
       "      <td>25</td>\n",
       "      <td>45</td>\n",
       "      <td>45</td>\n",
       "      <td>45</td>\n",
       "      <td>65</td>\n",
       "      <td>75</td>\n",
       "      <td>28.75</td>\n",
       "      <td>57.50</td>\n",
       "    </tr>\n",
       "    <tr>\n",
       "      <th>497</th>\n",
       "      <td>G.A</td>\n",
       "      <td>54.0</td>\n",
       "      <td>0</td>\n",
       "      <td>75</td>\n",
       "      <td>65</td>\n",
       "      <td>55</td>\n",
       "      <td>40</td>\n",
       "      <td>65</td>\n",
       "      <td>60</td>\n",
       "      <td>75</td>\n",
       "      <td>85</td>\n",
       "      <td>58.75</td>\n",
       "      <td>71.25</td>\n",
       "    </tr>\n",
       "    <tr>\n",
       "      <th>498</th>\n",
       "      <td>K.Ö</td>\n",
       "      <td>46.0</td>\n",
       "      <td>1</td>\n",
       "      <td>35</td>\n",
       "      <td>40</td>\n",
       "      <td>40</td>\n",
       "      <td>55</td>\n",
       "      <td>45</td>\n",
       "      <td>50</td>\n",
       "      <td>55</td>\n",
       "      <td>50</td>\n",
       "      <td>42.50</td>\n",
       "      <td>50.00</td>\n",
       "    </tr>\n",
       "  </tbody>\n",
       "</table>\n",
       "<p>499 rows × 13 columns</p>\n",
       "</div>"
      ],
      "text/plain": [
       "    AD/SOYAD   YAŞ  CİNSİYET  R500Hz  R1000Hz  R2000Hz  R4000Hz  L500Hz  \\\n",
       "0        G.O  34.0         0      20       20       10       25      20   \n",
       "1        C.D  26.0         1      15       15        5       50      20   \n",
       "2        N.A  27.0         1      10       15       20       55      15   \n",
       "3        H.G  29.0         1      10       10       20       60      15   \n",
       "4        A.P  34.0         0      10       10       25       35      15   \n",
       "..       ...   ...       ...     ...      ...      ...      ...     ...   \n",
       "494      A.Ü  73.0         1      80       85       90       90      75   \n",
       "495      B.V  41.0         0      30       30       35       50      50   \n",
       "496      D.S  51.0         0      20       25       25       45      45   \n",
       "497      G.A  54.0         0      75       65       55       40      65   \n",
       "498      K.Ö  46.0         1      35       40       40       55      45   \n",
       "\n",
       "     L1000Hz  L2000Hz  L4000Hz  R_Safses_ortalama  L_Safses_ortalama  \n",
       "0         20       10       40              18.75              22.50  \n",
       "1         10        5       45              21.25              20.00  \n",
       "2         15       25       55              25.00              27.50  \n",
       "3         15       20       45              25.00              23.75  \n",
       "4         10       20       45              20.00              22.50  \n",
       "..       ...      ...      ...                ...                ...  \n",
       "494       75       70       85              86.25              76.25  \n",
       "495       40       40       65              36.25              48.75  \n",
       "496       45       65       75              28.75              57.50  \n",
       "497       60       75       85              58.75              71.25  \n",
       "498       50       55       50              42.50              50.00  \n",
       "\n",
       "[499 rows x 13 columns]"
      ]
     },
     "execution_count": 18,
     "metadata": {},
     "output_type": "execute_result"
    }
   ],
   "source": [
    "df"
   ]
  },
  {
   "cell_type": "markdown",
   "id": "7ed25c66",
   "metadata": {},
   "source": [
    "Destek Vektör Makineleri Modeli "
   ]
  },
  {
   "cell_type": "code",
   "execution_count": 19,
   "id": "03dd7bb8",
   "metadata": {},
   "outputs": [],
   "source": [
    "X = df[['YAŞ', 'CİNSİYET', 'R500Hz', 'R1000Hz', 'R2000Hz', 'R4000Hz', 'L500Hz', 'L1000Hz', 'L2000Hz', 'L4000Hz']]\n",
    "\n",
    "y = df[['R_Safses_ortalama', 'L_Safses_ortalama']]  \n",
    "\n",
    "X_train, X_test, y_train, y_test = train_test_split(X, y, test_size=0.2, random_state=42)\n",
    "\n",
    "\n",
    "svr_model = SVR()\n",
    "\n",
    "\n",
    "multioutput_svr_model = MultiOutputRegressor(svr_model)\n",
    "\n",
    "\n",
    "multioutput_svr_model.fit(X_train, y_train)\n",
    "\n",
    "\n",
    "y_pred_multioutput_svr = multioutput_svr_model.predict(X_test)\n"
   ]
  },
  {
   "cell_type": "code",
   "execution_count": 20,
   "id": "872a4bbe",
   "metadata": {},
   "outputs": [
    {
     "name": "stdout",
     "output_type": "stream",
     "text": [
      "SVR (Çoklu Çıkışlı) için Ortalama Kare Hatası (MSE): 10.285808242946397\n",
      "SVR (Çoklu Çıkışlı) için Kök Ortalama Kare Hatası (RMSE): 3.196063757832523\n",
      "SVR (Çoklu Çıkışlı) için R-Kare (R2) skoru: 0.9787019218080522\n"
     ]
    },
    {
     "name": "stderr",
     "output_type": "stream",
     "text": [
      "C:\\Users\\asus\\AppData\\Local\\Programs\\Python\\Python311\\Lib\\site-packages\\sklearn\\metrics\\_regression.py:483: FutureWarning: 'squared' is deprecated in version 1.4 and will be removed in 1.6. To calculate the root mean squared error, use the function'root_mean_squared_error'.\n",
      "  warnings.warn(\n"
     ]
    }
   ],
   "source": [
    "mse_multioutput_svr = mean_squared_error(y_test, y_pred_multioutput_svr)\n",
    "rmse_multioutput_svr = mean_squared_error(y_test, y_pred_multioutput_svr, squared=False) \n",
    "r2_multioutput_svr = r2_score(y_test, y_pred_multioutput_svr)\n",
    "\n",
    "\n",
    "print(f\"SVR (Çoklu Çıkışlı) için Ortalama Kare Hatası (MSE): {mse_multioutput_svr}\")\n",
    "print(f\"SVR (Çoklu Çıkışlı) için Kök Ortalama Kare Hatası (RMSE): {rmse_multioutput_svr}\")\n",
    "print(f\"SVR (Çoklu Çıkışlı) için R-Kare (R2) skoru: {r2_multioutput_svr}\")\n"
   ]
  },
  {
   "cell_type": "markdown",
   "id": "716027cc",
   "metadata": {},
   "source": [
    "Lineer Regresyon Modeli "
   ]
  },
  {
   "cell_type": "code",
   "execution_count": 7,
   "id": "6a39d5b8",
   "metadata": {
    "scrolled": true
   },
   "outputs": [],
   "source": [
    "X = df[['YAŞ', 'CİNSİYET', 'R500Hz', 'R1000Hz', 'R2000Hz', 'R4000Hz', 'L500Hz', 'L1000Hz', 'L2000Hz', 'L4000Hz']]\n",
    "y = df[['R_Safses_ortalama', 'L_Safses_ortalama']]\n",
    "\n",
    "X_train, X_test, y_train, y_test = train_test_split(X, y, test_size=0.2, random_state=42)\n",
    "\n",
    "linear_model = LinearRegression()\n",
    "\n",
    "multioutput_linear_model = MultiOutputRegressor(linear_model)\n",
    "\n",
    "multioutput_linear_model.fit(X_train, y_train)\n",
    "\n",
    "\n",
    "y_pred_multioutput_linear = multioutput_linear_model.predict(X_test)\n"
   ]
  },
  {
   "cell_type": "code",
   "execution_count": 8,
   "id": "32023fed",
   "metadata": {},
   "outputs": [
    {
     "name": "stdout",
     "output_type": "stream",
     "text": [
      "Lineer Regresyon (Çoklu Çıkışlı) için Ortalama Kare Hatası (MSE): 1.7765147585577187e-28\n",
      "Lineer Regresyon (Çoklu Çıkışlı) için Kök Ortalama Kare Hatası (RMSE): 1.2750470473501684e-14\n",
      "Lineer Regresyon (Çoklu Çıkışlı) için R-Kare (R2) skoru: 1.0\n"
     ]
    },
    {
     "name": "stderr",
     "output_type": "stream",
     "text": [
      "C:\\Users\\asus\\AppData\\Local\\Programs\\Python\\Python311\\Lib\\site-packages\\sklearn\\metrics\\_regression.py:483: FutureWarning: 'squared' is deprecated in version 1.4 and will be removed in 1.6. To calculate the root mean squared error, use the function'root_mean_squared_error'.\n",
      "  warnings.warn(\n"
     ]
    }
   ],
   "source": [
    "mse_multioutput_linear = mean_squared_error(y_test, y_pred_multioutput_linear)\n",
    "rmse_multioutput_linear = mean_squared_error(y_test, y_pred_multioutput_linear, squared=False)\n",
    "r2_multioutput_linear = r2_score(y_test, y_pred_multioutput_linear)\n",
    "\n",
    "print(f\"Lineer Regresyon (Çoklu Çıkışlı) için Ortalama Kare Hatası (MSE): {mse_multioutput_linear}\")\n",
    "print(f\"Lineer Regresyon (Çoklu Çıkışlı) için Kök Ortalama Kare Hatası (RMSE): {rmse_multioutput_linear}\")\n",
    "print(f\"Lineer Regresyon (Çoklu Çıkışlı) için R-Kare (R2) skoru: {r2_multioutput_linear}\")"
   ]
  },
  {
   "cell_type": "markdown",
   "id": "574572c5",
   "metadata": {},
   "source": [
    "Random Forest Modeli"
   ]
  },
  {
   "cell_type": "code",
   "execution_count": 12,
   "id": "0bb61a29",
   "metadata": {},
   "outputs": [],
   "source": [
    "X = df[['YAŞ', 'CİNSİYET', 'R500Hz', 'R1000Hz', 'R2000Hz', 'R4000Hz', 'L500Hz', 'L1000Hz', 'L2000Hz', 'L4000Hz']]\n",
    "y = df[['R_Safses_ortalama', 'L_Safses_ortalama']]\n",
    "\n",
    "X_train, X_test, y_train, y_test = train_test_split(X, y, test_size=0.2, random_state=42)\n",
    "\n",
    "random_forest_model = RandomForestRegressor()\n",
    "\n",
    "multioutput_random_forest_model = MultiOutputRegressor(random_forest_model)\n",
    "\n",
    "\n",
    "param_grid = {\n",
    "    'estimator__n_estimators': [50, 100, 150],  \n",
    "    'estimator__max_depth': [None, 10, 20, 30]  \n",
    "}\n",
    "\n",
    "\n",
    "grid_search = GridSearchCV(multioutput_random_forest_model, param_grid, cv=5)\n",
    "grid_search.fit(X_train, y_train)\n",
    "\n",
    "\n",
    "best_random_forest_model = grid_search.best_estimator_\n",
    "\n",
    "y_pred_multioutput_rf = best_random_forest_model.predict(X_test)\n"
   ]
  },
  {
   "cell_type": "code",
   "execution_count": 10,
   "id": "d7aed81b",
   "metadata": {},
   "outputs": [
    {
     "name": "stdout",
     "output_type": "stream",
     "text": [
      "Random Forest Regresyon (Çoklu Çıkışlı) için Ortalama Kare Hatası (MSE): 4.038694444444443\n",
      "Random Forest Regresyon (Çoklu Çıkışlı) için Kök Ortalama Kare Hatası (RMSE): 1.9853709524410728\n",
      "Random Forest Regresyon (Çoklu Çıkışlı) için R-Kare (R2) skoru: 0.9915318974474637\n"
     ]
    },
    {
     "name": "stderr",
     "output_type": "stream",
     "text": [
      "C:\\Users\\asus\\AppData\\Local\\Programs\\Python\\Python311\\Lib\\site-packages\\sklearn\\metrics\\_regression.py:483: FutureWarning: 'squared' is deprecated in version 1.4 and will be removed in 1.6. To calculate the root mean squared error, use the function'root_mean_squared_error'.\n",
      "  warnings.warn(\n"
     ]
    }
   ],
   "source": [
    "mse_multioutput_rf = mean_squared_error(y_test, y_pred_multioutput_rf)\n",
    "rmse_multioutput_rf = mean_squared_error(y_test, y_pred_multioutput_rf, squared=False)\n",
    "r2_multioutput_rf = r2_score(y_test, y_pred_multioutput_rf)\n",
    "\n",
    "print(f\"Random Forest Regresyon (Çoklu Çıkışlı) için Ortalama Kare Hatası (MSE): {mse_multioutput_rf}\")\n",
    "print(f\"Random Forest Regresyon (Çoklu Çıkışlı) için Kök Ortalama Kare Hatası (RMSE): {rmse_multioutput_rf}\")\n",
    "print(f\"Random Forest Regresyon (Çoklu Çıkışlı) için R-Kare (R2) skoru: {r2_multioutput_rf}\")\n"
   ]
  },
  {
   "cell_type": "markdown",
   "id": "9d2dd5db",
   "metadata": {},
   "source": [
    "KNN Modeli"
   ]
  },
  {
   "cell_type": "code",
   "execution_count": 8,
   "id": "9bc27da9",
   "metadata": {},
   "outputs": [],
   "source": [
    "X = df[['YAŞ', 'CİNSİYET', 'R500Hz', 'R1000Hz', 'R2000Hz', 'R4000Hz', 'L500Hz', 'L1000Hz', 'L2000Hz', 'L4000Hz']]\n",
    "y = df[['R_Safses_ortalama', 'L_Safses_ortalama']]\n",
    "\n",
    "X_train, X_test, y_train, y_test = train_test_split(X, y, test_size=0.2, random_state=42)\n",
    "\n",
    "knn_model = KNeighborsRegressor()\n",
    "\n",
    "multioutput_knn_model = MultiOutputRegressor(knn_model)\n"
   ]
  },
  {
   "cell_type": "code",
   "execution_count": 10,
   "id": "26cd485b",
   "metadata": {},
   "outputs": [
    {
     "name": "stdout",
     "output_type": "stream",
     "text": [
      "Best Hyperparameters: {'estimator__n_neighbors': 5, 'estimator__weights': 'distance'}\n"
     ]
    }
   ],
   "source": [
    "\n",
    "param_grid = {\n",
    "    'estimator__n_neighbors': [3, 5, 7], \n",
    "    'estimator__weights': ['uniform', 'distance'],\n",
    "}\n",
    "\n",
    "grid_search = GridSearchCV(multioutput_knn_model, param_grid, cv=5)\n",
    "grid_search.fit(X_train, y_train)\n",
    "\n",
    "best_multioutput_knn_model = grid_search.best_estimator_\n",
    "\n",
    "y_pred_multioutput_knn = best_multioutput_knn_model.predict(X_test)\n"
   ]
  },
  {
   "cell_type": "code",
   "execution_count": 11,
   "id": "11ee25cc",
   "metadata": {},
   "outputs": [
    {
     "name": "stdout",
     "output_type": "stream",
     "text": [
      "MSE for KNN: 5.927702699273352\n",
      "RMSE for KNN: 2.4309574979830897\n",
      "R-squared for KNN: 0.9876353504945345\n"
     ]
    },
    {
     "name": "stderr",
     "output_type": "stream",
     "text": [
      "C:\\Users\\asus\\AppData\\Local\\Programs\\Python\\Python311\\Lib\\site-packages\\sklearn\\metrics\\_regression.py:483: FutureWarning: 'squared' is deprecated in version 1.4 and will be removed in 1.6. To calculate the root mean squared error, use the function'root_mean_squared_error'.\n",
      "  warnings.warn(\n"
     ]
    }
   ],
   "source": [
    "mse_multioutput_knn = mean_squared_error(y_test, y_pred_multioutput_knn)\n",
    "rmse_multioutput_knn = mean_squared_error(y_test, y_pred_multioutput_knn, squared=False)\n",
    "r2_multioutput_knn = r2_score(y_test, y_pred_multioutput_knn)\n",
    "\n",
    "# Print the results\n",
    "print(\"MSE for KNN:\", mse_multioutput_knn)\n",
    "print(\"RMSE for KNN:\", rmse_multioutput_knn)\n",
    "print(\"R-squared for KNN:\", r2_multioutput_knn)"
   ]
  },
  {
   "cell_type": "code",
   "execution_count": null,
   "id": "242390f5",
   "metadata": {},
   "outputs": [],
   "source": []
  }
 ],
 "metadata": {
  "kernelspec": {
   "display_name": "Python 3 (ipykernel)",
   "language": "python",
   "name": "python3"
  },
  "language_info": {
   "codemirror_mode": {
    "name": "ipython",
    "version": 3
   },
   "file_extension": ".py",
   "mimetype": "text/x-python",
   "name": "python",
   "nbconvert_exporter": "python",
   "pygments_lexer": "ipython3",
   "version": "3.11.1"
  }
 },
 "nbformat": 4,
 "nbformat_minor": 5
}
